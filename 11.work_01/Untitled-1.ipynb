{
 "cells": [
  {
   "cell_type": "code",
   "execution_count": 6,
   "metadata": {},
   "outputs": [],
   "source": [
    "import math\n",
    "from sympy import*\n",
    "from sympy.plotting import plot\n",
    "from numpy import*\n",
    "# \n",
    "# Задача 1 \n",
    "# Дана функция F(x) = 5x^2 + 10x -30\n",
    "# 1) Определить корни\n",
    "\n",
    "# 2)Найти интервалы, на которых функция возрастает\n",
    "\n",
    "# 3)Найти интервалы, на которых функция убывает\n",
    "\n",
    "# 4)Построить график\n",
    "\n",
    "# 5)Вычислить вершину\n",
    "\n",
    "# 6)Определить промежутки, на котором f > 0\n",
    "\n",
    "# 7)Определить промежутки, на котором f < 0\n",
    "\n",
    "x = symbols('x')\n",
    "y = 5*x**2 + 10*x -30\n",
    "fd = diff(y)\n",
    "print(solve(y))\n",
    "print(solve(0<y),end=\"\\n\")\n",
    "print(solve(y<0))"
   ]
  }
 ],
 "metadata": {
  "kernelspec": {
   "display_name": "base",
   "language": "python",
   "name": "python3"
  },
  "language_info": {
   "codemirror_mode": {
    "name": "ipython",
    "version": 3
   },
   "file_extension": ".py",
   "mimetype": "text/x-python",
   "name": "python",
   "nbconvert_exporter": "python",
   "pygments_lexer": "ipython3",
   "version": "3.9.13"
  },
  "orig_nbformat": 4,
  "vscode": {
   "interpreter": {
    "hash": "f3817fcff11901414a3f93fc977ed62a591d3701c2fa8e925ae4a21cb03ea20b"
   }
  }
 },
 "nbformat": 4,
 "nbformat_minor": 2
}
